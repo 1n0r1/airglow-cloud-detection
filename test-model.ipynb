{
 "cells": [
  {
   "cell_type": "code",
   "execution_count": 27,
   "id": "4e3dc55c",
   "metadata": {},
   "outputs": [],
   "source": [
    "import numpy as np\n",
    "import tensorflow as tf\n",
    "from tensorflow import keras\n",
    "import matplotlib.pyplot as plt\n",
    "import PIL\n",
    "import os\n",
    "\n",
    "from tensorflow.keras import layers\n",
    "from tensorflow.keras.models import Sequential\n",
    "from sklearn.metrics import classification_report, confusion_matrix, ConfusionMatrixDisplay\n",
    "import numpy as np"
   ]
  },
  {
   "cell_type": "code",
   "execution_count": 28,
   "id": "0174b569",
   "metadata": {},
   "outputs": [
    {
     "name": "stdout",
     "output_type": "stream",
     "text": [
      "Found 1477 files belonging to 2 classes.\n"
     ]
    }
   ],
   "source": [
    "# Read and split data\n",
    "batch_size = 1\n",
    "img_height = 519\n",
    "img_width = 695\n",
    "data_dir = 'labeled_sets/labeled_blo'\n",
    "\n",
    "test_ds = keras.utils.image_dataset_from_directory(\n",
    "  data_dir, \n",
    "  batch_size=batch_size, \n",
    "  image_size=(img_height, img_width)\n",
    ")\n"
   ]
  },
  {
   "cell_type": "code",
   "execution_count": 29,
   "id": "f1b89733",
   "metadata": {},
   "outputs": [],
   "source": [
    "class_names = test_ds.class_names\n",
    "num_classes = len(class_names)"
   ]
  },
  {
   "cell_type": "code",
   "execution_count": 30,
   "id": "3d6ee964",
   "metadata": {},
   "outputs": [
    {
     "name": "stderr",
     "output_type": "stream",
     "text": [
      "2023-04-13 21:27:57.197043: I tensorflow/core/common_runtime/executor.cc:1197] [/device:CPU:0] (DEBUG INFO) Executor start aborting (this does not indicate an error and you can ignore this message): INVALID_ARGUMENT: You must feed a value for placeholder tensor 'Placeholder/_4' with dtype int32 and shape [1477]\n",
      "\t [[{{node Placeholder/_4}}]]\n",
      "2023-04-13 21:27:57.197763: I tensorflow/core/common_runtime/executor.cc:1197] [/device:CPU:0] (DEBUG INFO) Executor start aborting (this does not indicate an error and you can ignore this message): INVALID_ARGUMENT: You must feed a value for placeholder tensor 'Placeholder/_0' with dtype string and shape [1477]\n",
      "\t [[{{node Placeholder/_0}}]]\n"
     ]
    },
    {
     "name": "stdout",
     "output_type": "stream",
     "text": [
      "1477/1477 - 12s - loss: 3.5440 - accuracy: 0.5362 - 12s/epoch - 8ms/step\n",
      "Accuracy: 53.62%\n"
     ]
    }
   ],
   "source": [
    "model = tf.keras.models.load_model(\"trained_model/all40\")\n",
    "\n",
    "# Re-evaluate the model\n",
    "loss, acc = model.evaluate(test_ds, verbose=2)\n",
    "print(\"Accuracy: {:5.2f}%\".format(100 * acc))"
   ]
  },
  {
   "cell_type": "code",
   "execution_count": 39,
   "id": "7c5fea89",
   "metadata": {},
   "outputs": [],
   "source": [
    "labels = []\n",
    "predictions = []\n",
    "# count = 0\n",
    "for x, y in test_ds:\n",
    "    pred = np.argmax(model(x))\n",
    "    predictions.append(pred)\n",
    "    labels.append(y.numpy()[0])\n",
    "    # if (y.numpy()[0] != pred):\n",
    "    #     if pred == 1:\n",
    "    #         tf.keras.preprocessing.image.save_img('./wrong/clearPredCloudy/' + str(count) + '.png', x[0])\n",
    "    #     else:\n",
    "    #         tf.keras.preprocessing.image.save_img('./wrong/cloudyPredClear/' + str(count) + '.png', x[0])\n",
    "    #     count = count + 1\n"
   ]
  },
  {
   "cell_type": "code",
   "execution_count": 32,
   "id": "0fcf06af",
   "metadata": {},
   "outputs": [
    {
     "name": "stdout",
     "output_type": "stream",
     "text": [
      "              precision    recall  f1-score   support\n",
      "\n",
      "           0       0.54      1.00      0.70       747\n",
      "           1       0.98      0.12      0.21       730\n",
      "\n",
      "    accuracy                           0.56      1477\n",
      "   macro avg       0.76      0.56      0.46      1477\n",
      "weighted avg       0.75      0.56      0.46      1477\n",
      "\n"
     ]
    }
   ],
   "source": [
    "print(classification_report(labels, predictions))"
   ]
  },
  {
   "cell_type": "code",
   "execution_count": 33,
   "id": "a208fcb1",
   "metadata": {},
   "outputs": [
    {
     "data": {
      "text/plain": [
       "<sklearn.metrics._plot.confusion_matrix.ConfusionMatrixDisplay at 0x7f7f70e46c10>"
      ]
     },
     "execution_count": 33,
     "metadata": {},
     "output_type": "execute_result"
    },
    {
     "data": {
      "image/png": "[encoded data removed]",
      "text/plain": [
       "<Figure size 432x288 with 2 Axes>"
      ]
     },
     "metadata": {
      "needs_background": "light"
     },
     "output_type": "display_data"
    }
   ],
   "source": [
    "ConfusionMatrixDisplay.from_predictions(labels, predictions, cmap=plt.cm.Blues, display_labels=class_names )"
   ]
  },
  {
   "cell_type": "code",
   "execution_count": null,
   "id": "fe133201",
   "metadata": {},
   "outputs": [],
   "source": []
  }
 ],
 "metadata": {
  "kernelspec": {
   "display_name": "Python 3 (ipykernel)",
   "language": "python",
   "name": "python3"
  },
  "language_info": {
   "codemirror_mode": {
    "name": "ipython",
    "version": 3
   },
   "file_extension": ".py",
   "mimetype": "text/x-python",
   "name": "python",
   "nbconvert_exporter": "python",
   "pygments_lexer": "ipython3",
   "version": "3.9.16"
  }
 },
 "nbformat": 4,
 "nbformat_minor": 5
}
